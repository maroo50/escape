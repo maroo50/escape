{
 "cells": [
  {
   "cell_type": "markdown",
   "source": [
    "## 191\r\n",
    "data에는 매수한 종목들의 OHLC (open/high/low/close) 가격 정보가 바인딩 되어있다.\r\n",
    "\r\n",
    "data = [\r\n",
    "    [ 2000,  3050,  2050,  1980],\r\n",
    "    [ 7500,  2050,  2050,  1980],\r\n",
    "    [15450, 15050, 15550, 14900]\r\n",
    "]\r\n",
    "\r\n",
    "수수료를 0.014 %로 가정할 때, 각 가격에 수수료를 포함한 가격을 한라인에 하나씩 출력하라.\r\n",
    "\r\n",
    "2000.28\r\n",
    "3050.427\r\n",
    "2050.2870000000003\r\n",
    "..."
   ],
   "metadata": {}
  },
  {
   "cell_type": "code",
   "execution_count": 1,
   "source": [
    "data = [\r\n",
    "    [ 2000,  3050,  2050,  1980],\r\n",
    "    [ 7500,  2050,  2050,  1980],\r\n",
    "    [15450, 15050, 15550, 14900]\r\n",
    "]\r\n",
    "for line in data:\r\n",
    "    for column in line:\r\n",
    "        print(column * 1.00014)\r\n",
    "\r\n"
   ],
   "outputs": [
    {
     "output_type": "stream",
     "name": "stdout",
     "text": [
      "2000.28\n",
      "3050.427\n",
      "2050.2870000000003\n",
      "1980.2772\n",
      "7501.05\n",
      "2050.2870000000003\n",
      "2050.2870000000003\n",
      "1980.2772\n",
      "15452.163\n",
      "15052.107\n",
      "15552.177\n",
      "14902.086000000001\n"
     ]
    }
   ],
   "metadata": {}
  },
  {
   "cell_type": "markdown",
   "source": [
    "## 192\r\n",
    "191번의 출력 결과에 행단위로 \"----\" 구분자를 추가하라.\r\n",
    "\r\n",
    "2000.28\r\n",
    "\r\n",
    "3050.427\r\n",
    "\r\n",
    "2050.2870000000003\r\n",
    "\r\n",
    "1980.2772\r\n",
    "### ----\r\n",
    "7501.05\r\n",
    "\r\n",
    "2050.2870000000003\r\n",
    "\r\n",
    "2050.2870000000003\r\n",
    "\r\n",
    "1980.2772\r\n",
    "### ----\r\n",
    "15452.163\r\n",
    "\r\n",
    "15052.107\r\n",
    "\r\n",
    "15552.177\r\n",
    "\r\n",
    "14902.086000000001\r\n",
    "### ----"
   ],
   "metadata": {}
  },
  {
   "cell_type": "code",
   "execution_count": 3,
   "source": [
    "for line in data:\r\n",
    "    for column in line:\r\n",
    "        print(column * 1.00014)\r\n",
    "    print(\"-\"*5)"
   ],
   "outputs": [
    {
     "output_type": "stream",
     "name": "stdout",
     "text": [
      "2000.28\n",
      "3050.427\n",
      "2050.2870000000003\n",
      "1980.2772\n",
      "-----\n",
      "7501.05\n",
      "2050.2870000000003\n",
      "2050.2870000000003\n",
      "1980.2772\n",
      "-----\n",
      "15452.163\n",
      "15052.107\n",
      "15552.177\n",
      "14902.086000000001\n",
      "-----\n"
     ]
    }
   ],
   "metadata": {}
  },
  {
   "cell_type": "markdown",
   "source": [
    "## 193\r\n",
    "192 번 문제의 결괏값을 result 이름의 리스트에 1차원 배열로 저장하라.\r\n",
    "\r\n",
    ">> print(result)\r\n",
    "[2000.28, 3050.427, 2050.2870000000003, 1980.2772, 7501.05, 2050.2870000000003, 2050.2870000000003, ...]"
   ],
   "metadata": {}
  },
  {
   "cell_type": "code",
   "execution_count": 5,
   "source": [
    "result = []\r\n",
    "for line in data:\r\n",
    "    for column in line:\r\n",
    "        result.append(column * 1.00014)\r\n",
    "print(result)"
   ],
   "outputs": [
    {
     "output_type": "stream",
     "name": "stdout",
     "text": [
      "[2000.28, 3050.427, 2050.2870000000003, 1980.2772, 7501.05, 2050.2870000000003, 2050.2870000000003, 1980.2772, 15452.163, 15052.107, 15552.177, 14902.086000000001]\n"
     ]
    }
   ],
   "metadata": {}
  },
  {
   "cell_type": "markdown",
   "source": [
    "## 194\r\n",
    "191번 문제의 결괏값을 result 이름의 리스트에 2차원 배열로 저장하라. 저장 포맷은 아래와 같다. 각 행에 대한 데이터끼리 리스트에 저장되어야 한다.\r\n",
    "\r\n",
    "print(result)\r\n",
    "\r\n",
    "[\r\n",
    "\r\n",
    " [2000.28, 3050.427, 2050.2870000000003, 1980.2772],\r\n",
    "\r\n",
    " [7501.05, 2050.2870000000003, 2050.2870000000003, 1980.2772],\r\n",
    "\r\n",
    " [15452.163, 15052.107, 15552.177, 14902.086000000001]\r\n",
    " \r\n",
    "]"
   ],
   "metadata": {}
  },
  {
   "cell_type": "code",
   "execution_count": 6,
   "source": [
    "result = []\r\n",
    "for line in data:\r\n",
    "    sub = []\r\n",
    "    for column in line:\r\n",
    "        sub.append(column * 1.00014)\r\n",
    "    result.append(sub)\r\n",
    "print(result)"
   ],
   "outputs": [
    {
     "output_type": "stream",
     "name": "stdout",
     "text": [
      "[[2000.28, 3050.427, 2050.2870000000003, 1980.2772], [7501.05, 2050.2870000000003, 2050.2870000000003, 1980.2772], [15452.163, 15052.107, 15552.177, 14902.086000000001]]\n"
     ]
    }
   ],
   "metadata": {}
  },
  {
   "cell_type": "markdown",
   "source": [
    "## 195\r\n",
    "ohlc 리스트에는 시가(open), 고가 (high), 저가 (low) , 종가(close)가 날짜별로 저장돼 있다. 화면에 종가데이터를 출력하라.\r\n",
    "\r\n",
    "ohlc = [[\"open\", \"high\", \"low\", \"close\"],\r\n",
    "\r\n",
    "        [100, 110, 70, 100],\r\n",
    "\r\n",
    "        [200, 210, 180, 190],\r\n",
    "\r\n",
    "        [300, 310, 300, 310]]\r\n",
    "\r\n",
    "100\r\n",
    "\r\n",
    "190\r\n",
    "\r\n",
    "310"
   ],
   "metadata": {}
  },
  {
   "cell_type": "code",
   "execution_count": 11,
   "source": [
    "ohlc = [[\"open\", \"high\", \"low\", \"close\"],\r\n",
    "        [100, 110, 70, 100],\r\n",
    "        [200, 210, 180, 190],\r\n",
    "        [300, 310, 300, 310]]\r\n",
    "\r\n",
    "for low in ohlc[1:]:\r\n",
    "    print(low[3])"
   ],
   "outputs": [
    {
     "output_type": "stream",
     "name": "stdout",
     "text": [
      "100\n",
      "190\n",
      "310\n"
     ]
    }
   ],
   "metadata": {}
  },
  {
   "cell_type": "markdown",
   "source": [
    "## 196\r\n",
    "ohlc 리스트에는 시가(open), 고가 (high), 저가 (low) , 종가(close)가 날짜별로 저장돼 있다. 종가가 150원보다 큰경우에만 종가를 출력하라.\r\n",
    "\r\n",
    "ohlc = [[\"open\", \"high\", \"low\", \"close\"],\r\n",
    "\r\n",
    "        [100, 110, 70, 100],\r\n",
    "\r\n",
    "        [200, 210, 180, 190],\r\n",
    "\r\n",
    "        [300, 310, 300, 310]]\r\n",
    "\r\n",
    "190\r\n",
    "\r\n",
    "310\r\n",
    "\r\n"
   ],
   "metadata": {}
  },
  {
   "cell_type": "code",
   "execution_count": 15,
   "source": [
    "for row in ohlc[1:]:\r\n",
    "    if row[3] > 150 :\r\n",
    "        print(row[3])\r\n",
    "        "
   ],
   "outputs": [
    {
     "output_type": "stream",
     "name": "stdout",
     "text": [
      "190\n",
      "310\n"
     ]
    }
   ],
   "metadata": {}
  },
  {
   "cell_type": "markdown",
   "source": [
    "## 197\r\n",
    "ohlc 리스트에는 시가(open), 고가 (high), 저가 (low) , 종가(close)가 날짜별로 저장돼 있다. 종가가 시가 보다 크거나 같은 경우에만 종가를 출력하라.\r\n",
    "\r\n",
    "ohlc = [[\"open\", \"high\", \"low\", \"close\"],\r\n",
    "        [100, 110, 70, 100],\r\n",
    "        [200, 210, 180, 190],\r\n",
    "        [300, 310, 300, 310]]"
   ],
   "metadata": {}
  },
  {
   "cell_type": "code",
   "execution_count": 16,
   "source": [
    "for row in ohlc[1:]:\r\n",
    "    if (row[3] >= row[0]):\r\n",
    "        print(row[3])"
   ],
   "outputs": [
    {
     "output_type": "stream",
     "name": "stdout",
     "text": [
      "100\n",
      "310\n"
     ]
    }
   ],
   "metadata": {}
  },
  {
   "cell_type": "markdown",
   "source": [
    "## 198\r\n",
    "ohlc 리스트에는 시가(open), 고가 (high), 저가 (low) , 종가(close)가 날짜별로 저장돼 있다. 고가와 저가의 차이를 변동폭으로 정의할 때 변동폭을 volatility 이름의 리스트에 저장하라.\r\n",
    "\r\n",
    "ohlc = [[\"open\", \"high\", \"low\", \"close\"],\r\n",
    "\r\n",
    "        [100, 110, 70, 100],\r\n",
    "\r\n",
    "        [200, 210, 180, 190],\r\n",
    "\r\n",
    "        [300, 310, 300, 310]]\r\n",
    "\r\n",
    "print(volatility)\r\n",
    "\r\n",
    "[40, 30, 10]"
   ],
   "metadata": {}
  },
  {
   "cell_type": "code",
   "execution_count": 17,
   "source": [
    "ohlc = [[\"open\", \"high\", \"low\", \"close\"],\r\n",
    "        [100, 110, 70, 100],\r\n",
    "        [200, 210, 180, 190],\r\n",
    "        [300, 310, 300, 310]]\r\n",
    "\r\n",
    "volatility =[]\r\n",
    "\r\n",
    "for row in ohlc[1:]:\r\n",
    "    volatility.append(row[1]-row[2])\r\n",
    "print(volatility)     "
   ],
   "outputs": [
    {
     "output_type": "stream",
     "name": "stdout",
     "text": [
      "[40, 30, 10]\n"
     ]
    }
   ],
   "metadata": {}
  },
  {
   "cell_type": "markdown",
   "source": [
    "## 199\r\n",
    "리스트에는 3일 간의 ohlc 데이터가 저장돼 있다. 종가가 시가보다 높은 날의 변동성 (고가 - 저가)을 화면에 출력하라.\r\n",
    "\r\n",
    "ohlc = [[\"open\", \"high\", \"low\", \"close\"],\r\n",
    "\r\n",
    "        [100, 110, 70, 100],\r\n",
    "\r\n",
    "        [200, 210, 180, 190],\r\n",
    "\r\n",
    "        [300, 310, 300, 310]]\r\n",
    "        \r\n",
    "종가가 시가보다 높은 거래일의 OHLC는 [300, 310, 300, 310] 이다. 따라서 이 거래일의 변동성은 10 (310 - 300)이다.\r\n",
    "\r\n",
    "10"
   ],
   "metadata": {}
  },
  {
   "cell_type": "code",
   "execution_count": 18,
   "source": [
    "ohlc = [[\"open\", \"high\", \"low\", \"close\"],\r\n",
    "        [100, 110, 70, 100],\r\n",
    "        [200, 210, 180, 190],\r\n",
    "        [300, 310, 300, 310]]\r\n",
    "\r\n",
    "volatility =[]\r\n",
    "\r\n",
    "for row in ohlc[1:]:\r\n",
    "    if row[3] > row[0] :\r\n",
    "        volatility.append(row[1]-row[2])\r\n",
    "print(volatility)     "
   ],
   "outputs": [
    {
     "output_type": "stream",
     "name": "stdout",
     "text": [
      "[10]\n"
     ]
    }
   ],
   "metadata": {}
  },
  {
   "cell_type": "markdown",
   "source": [
    "## 200\r\n",
    "리스트에는 3일 간의 ohlc 데이터가 저장돼 있다. 시가에 매수해서 종가에 매도 했을 경우 총 수익금을 계산하라.\r\n",
    "\r\n",
    "ohlc = [[\"open\", \"high\", \"low\", \"close\"],\r\n",
    "\r\n",
    "        [100, 110, 70, 100],\r\n",
    "\r\n",
    "        [200, 210, 180, 190],\r\n",
    "\r\n",
    "        [300, 310, 300, 310]]\r\n",
    "        \r\n",
    "1일차 수익 0원 (100 - 100), 2일차 수익 -10원 (190 - 200), 3일차 수익 10원 (310 - 300) 이다.\r\n",
    "\r\n",
    "0"
   ],
   "metadata": {}
  },
  {
   "cell_type": "code",
   "execution_count": 22,
   "source": [
    "ohlc = [[\"open\", \"high\", \"low\", \"close\"],\r\n",
    "        [100, 110, 70, 100],\r\n",
    "        [200, 210, 180, 190],\r\n",
    "        [300, 310, 300, 310]]\r\n",
    "\r\n",
    "sum=0\r\n",
    "for row in ohlc[1:]:\r\n",
    "    sum += (row[0]-row[3])\r\n",
    "print(sum)"
   ],
   "outputs": [
    {
     "output_type": "stream",
     "name": "stdout",
     "text": [
      "0\n"
     ]
    }
   ],
   "metadata": {}
  },
  {
   "cell_type": "code",
   "execution_count": null,
   "source": [],
   "outputs": [],
   "metadata": {}
  }
 ],
 "metadata": {
  "orig_nbformat": 4,
  "language_info": {
   "name": "python",
   "version": "3.7.8rc1",
   "mimetype": "text/x-python",
   "codemirror_mode": {
    "name": "ipython",
    "version": 3
   },
   "pygments_lexer": "ipython3",
   "nbconvert_exporter": "python",
   "file_extension": ".py"
  },
  "kernelspec": {
   "name": "python3",
   "display_name": "Python 3.7.8rc1 64-bit"
  },
  "interpreter": {
   "hash": "cc07735d28a0d4da7c204b7621a4e8051814cf7e137f5c0f118b7d9ce33f12a9"
  }
 },
 "nbformat": 4,
 "nbformat_minor": 2
}