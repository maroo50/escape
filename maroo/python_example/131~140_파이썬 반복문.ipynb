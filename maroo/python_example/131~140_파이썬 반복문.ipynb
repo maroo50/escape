{
 "cells": [
  {
   "cell_type": "markdown",
   "metadata": {},
   "source": [
    "https://wikidocs.net/78562\n"
   ]
  },
  {
   "cell_type": "markdown",
   "metadata": {},
   "source": [
    "## 131\n",
    "for문의 실행결과를 예측하라.\n"
   ]
  },
  {
   "cell_type": "code",
   "execution_count": 2,
   "metadata": {},
   "outputs": [
    {
     "name": "stdout",
     "output_type": "stream",
     "text": [
      "사과\n",
      "귤\n",
      "수박\n"
     ]
    }
   ],
   "source": [
    "\n",
    "과일 = [\"사과\", \"귤\", \"수박\"]\n",
    "for 변수 in 과일:\n",
    "    print(변수)"
   ]
  },
  {
   "cell_type": "markdown",
   "metadata": {},
   "source": [
    "리스트에 들어있는 문자열이 한 라인에 하나씩 출력됩니다.\n",
    "사과\n",
    "귤\n",
    "수박"
   ]
  },
  {
   "cell_type": "markdown",
   "metadata": {},
   "source": [
    "## 132\n",
    "for문의 실행결과를 예측하라.\n"
   ]
  },
  {
   "cell_type": "code",
   "execution_count": 4,
   "metadata": {},
   "outputs": [
    {
     "name": "stdout",
     "output_type": "stream",
     "text": [
      "#####\n",
      "#####\n",
      "#####\n"
     ]
    }
   ],
   "source": [
    "\n",
    "과일 = [\"사과\", \"귤\", \"수박\"]\n",
    "for 변수 in 과일:\n",
    "  print(\"#####\")\n"
   ]
  },
  {
   "cell_type": "markdown",
   "metadata": {},
   "source": [
    "기초문법 배우기-1에서 for문의 핵심은 \"들여쓰기된 코드가 자료구조에 저장된 데이터 개수만큼 반복된다\"라고 설명했습니다. 과일 = [\"사과\", \"귤\", \"수박\"] 에는 세 개의 데이터가 저장돼 있으므로 들여쓰기된 print(\"####\")코드가 세 번 실행됩니다.\n",
    "#####\n",
    "#####\n",
    "#####"
   ]
  },
  {
   "cell_type": "markdown",
   "metadata": {},
   "source": [
    "## 133\n",
    "다음 for 문과 동일한 기능을 수행하는 코드를 작성하세요.\n"
   ]
  },
  {
   "cell_type": "code",
   "execution_count": null,
   "metadata": {},
   "outputs": [],
   "source": [
    "\n",
    "for 변수 in [\"A\", \"B\", \"C\"]:\n",
    "  print(변수)"
   ]
  },
  {
   "cell_type": "markdown",
   "metadata": {},
   "source": [
    "<!-- 파이썬 인터프리터가 어떤 순서로 코드를 실행하는지를 떠올려 보세요. \"변수 바인딩(라인 1) -> 변수 출력 (라인 2)\" 과정을 자료구조 데이터 개수 만큼 반복합니다. -->\n",
    "변수 = \"A\"\n",
    "print(변수)\n",
    "변수 = \"B\"\n",
    "print(변수)\n",
    "변수 = \"C\"\n",
    "print(변수)\n",
    "<!-- 간단해서 변수의 바인딩없이 다음과 같이 코드를 작성해도 됩니다. 모두 동일한 결과를 출력합니다. -->\n",
    "\n",
    "print(\"A\")\n",
    "print(\"B\")\n",
    "print(\"C\")"
   ]
  },
  {
   "cell_type": "markdown",
   "metadata": {},
   "source": [
    "## 134\n",
    "for문을 풀어서 동일한 동작을하는 코드를 작성하라.\n"
   ]
  },
  {
   "cell_type": "code",
   "execution_count": 5,
   "metadata": {},
   "outputs": [
    {
     "name": "stdout",
     "output_type": "stream",
     "text": [
      "출력: A\n",
      "출력: B\n",
      "출력: C\n"
     ]
    }
   ],
   "source": [
    "\n",
    "for 변수 in [\"A\", \"B\", \"C\"]:\n",
    "  print(\"출력:\", 변수)"
   ]
  },
  {
   "cell_type": "code",
   "execution_count": 7,
   "metadata": {},
   "outputs": [
    {
     "name": "stdout",
     "output_type": "stream",
     "text": [
      "출력: A\n",
      "출력: B\n",
      "출력: C\n",
      "출력: A\n",
      "출력: B\n",
      "출력: C\n"
     ]
    }
   ],
   "source": [
    "변수 = \"A\"\n",
    "print(\"출력:\", 변수)\n",
    "변수 = \"B\"\n",
    "print(\"출력:\", 변수)\n",
    "변수 = \"C\"\n",
    "print(\"출력:\", 변수)\n",
    "print(\"출력:\", \"A\")\n",
    "print(\"출력:\", \"B\")\n",
    "print(\"출력:\", \"C\")"
   ]
  },
  {
   "cell_type": "markdown",
   "metadata": {},
   "source": [
    "## 135\n",
    "for문을 풀어서 동일한 동작을 하는 코드를 작성하라.\n",
    "\n",
    "\n",
    "#### for 변수 in [\"A\", \"B\", \"C\"]:\n",
    "####  b = 변수.lower()\n",
    "####  print(\"변환:\", b)"
   ]
  },
  {
   "cell_type": "code",
   "execution_count": 8,
   "metadata": {},
   "outputs": [
    {
     "name": "stdout",
     "output_type": "stream",
     "text": [
      "변환: a\n",
      "변환: b\n",
      "변환: a\n",
      "변환: b\n",
      "변환: c\n"
     ]
    }
   ],
   "source": [
    "# 들여쓰기된 코드의 내용은 중요하지 않습니다. 파이썬 인터프리터가 코드를 해석하는 순서를 익히는 것이 중요합니다. 라인1의 for문이 실행되면 변수에 첫 번재 데이터를 바인딩합니다. 그리고 들여쓰기된 라인 2의 코드를 실행합니다.\n",
    "변수 = \"A\"\n",
    "b = 변수.lower()\n",
    "print(\"변환:\", b)\n",
    "# 들여쓰기된 코드의 실행이 끝나면 라인 1로 이동해서 변수에 두 번재 데이터를 바인딩합니다. 그리고 들여쓰기된 코드를 실행합니다.\n",
    "\n",
    "변수 = \"B\"\n",
    "b = 변수.lower()\n",
    "print(\"변환:\", b)\n",
    "# 다음으로 변수 \"C\"를 바인딩하고 출력하면 되겠죠? for문을 풀어쓴 전체 코드는 다음과 같습니다.\n",
    "\n",
    "변수 = \"A\"\n",
    "b = 변수.lower()\n",
    "print(\"변환:\", b)\n",
    "변수 = \"B\"\n",
    "b = 변수.lower()\n",
    "print(\"변환:\", b)\n",
    "변수 = \"C\"\n",
    "b = 변수.lower()\n",
    "print(\"변환:\", b)"
   ]
  },
  {
   "cell_type": "markdown",
   "metadata": {},
   "source": [
    "\n",
    "## 136\n",
    " 다음 코드를 for문으로 작성하라.\n"
   ]
  },
  {
   "cell_type": "code",
   "execution_count": 9,
   "metadata": {},
   "outputs": [
    {
     "name": "stdout",
     "output_type": "stream",
     "text": [
      "10\n",
      "20\n",
      "30\n"
     ]
    }
   ],
   "source": [
    "변수 = 10\n",
    "print(변수)\n",
    "변수 = 20\n",
    "print(변수)\n",
    "변수 = 30\n",
    "print(변수)"
   ]
  },
  {
   "cell_type": "code",
   "execution_count": 11,
   "metadata": {},
   "outputs": [
    {
     "name": "stdout",
     "output_type": "stream",
     "text": [
      "10\n",
      "20\n",
      "30\n"
     ]
    }
   ],
   "source": [
    "변수 = { 10, 20, 30 }\n",
    "\n",
    "for s in 변수 :\n",
    "    print(s)"
   ]
  },
  {
   "cell_type": "code",
   "execution_count": 12,
   "metadata": {},
   "outputs": [
    {
     "name": "stdout",
     "output_type": "stream",
     "text": [
      "10\n",
      "20\n",
      "30\n",
      "10\n",
      "20\n",
      "30\n",
      "10\n",
      "20\n",
      "30\n"
     ]
    }
   ],
   "source": [
    "# for문은 동일한 루틴을 반복해서 실행하는 문법이었습니다. 우선 문제에서 변하지 않고 반복되는 코드를 찾아보세요. print(변수) 부분이죠? 변하는 부분은 변수에 값을 대입하는 코드입니다.\n",
    "변수 = 10\n",
    "print(변수)\n",
    "변수 = 20\n",
    "print(변수)\n",
    "변수 = 30\n",
    "print(변수)\n",
    "\n",
    "# 반복되는 코드는 들여쓰기로 표현하고 for문에서 변하는 부분을 기술해 줍니다.\n",
    "\n",
    "for 변수 in [10, 20, 30]:\n",
    "  print(변수)\n",
    "# 다음과 같이 리스트 변수에 데이터를 바인딩하고, 변수를 for문의 자료구조 자리에 넣어줘도 됩니다.\n",
    "\n",
    "리스트 = [10, 20, 30]\n",
    "for 변수 in 리스트:\n",
    "  print(변수)"
   ]
  },
  {
   "cell_type": "markdown",
   "metadata": {},
   "source": [
    "## 137\n",
    "다음 코드를 for문으로 작성하라.\n",
    "\n",
    "#### print(10)\n",
    "#### print(20)\n",
    "#### print(30)\n",
    "\n"
   ]
  },
  {
   "cell_type": "code",
   "execution_count": 13,
   "metadata": {},
   "outputs": [
    {
     "name": "stdout",
     "output_type": "stream",
     "text": [
      "10\n",
      "20\n",
      "30\n",
      "10\n",
      "20\n",
      "30\n"
     ]
    }
   ],
   "source": [
    "# 값을 바인딩하는 코드가 생략된 코드입니다. 그렇다해도 for문으로 변경할 수 있어야합니다. 변하는 부분은 값 10, 20, 30입니다. 변하지 않는 부분은 print() 코드입니다.\n",
    "변수 = 10\n",
    "print(변수)\n",
    "변수 = 20\n",
    "print(변수)\n",
    "변수 = 30\n",
    "print(변수)\n",
    "# 변하는 부분은 for문과 함께 리스트로 처리하고 변하지 않는 코드는 들여쓰기와 함께 적어줍니다.\n",
    "\n",
    "for 변수 in [10, 20, 30]:\n",
    "  print(변수)\n",
    "# 006번과 동일한 코드입니다."
   ]
  },
  {
   "cell_type": "markdown",
   "metadata": {},
   "source": [
    "## 138\n",
    " 다음 코드를 for문으로 작성하라.\n"
   ]
  },
  {
   "cell_type": "code",
   "execution_count": 15,
   "metadata": {},
   "outputs": [
    {
     "name": "stdout",
     "output_type": "stream",
     "text": [
      "10\n",
      "-------\n",
      "20\n",
      "-------\n",
      "30\n",
      "-------\n"
     ]
    }
   ],
   "source": [
    "print(10)\n",
    "print(\"-------\")\n",
    "print(20)\n",
    "print(\"-------\")\n",
    "print(30)\n",
    "print(\"-------\")"
   ]
  },
  {
   "cell_type": "code",
   "execution_count": 16,
   "metadata": {},
   "outputs": [
    {
     "name": "stdout",
     "output_type": "stream",
     "text": [
      "10\n",
      "-------\n",
      "20\n",
      "-------\n",
      "30\n",
      "-------\n",
      "10\n",
      "-------\n",
      "20\n",
      "-------\n",
      "30\n",
      "-------\n"
     ]
    }
   ],
   "source": [
    "# 변하는 값을 변수에 바인딩하고, 변수를 사용해서 나머지 코드를 작성합니다.\n",
    "변수 = 10\n",
    "print(변수)\n",
    "print(\"-------\")\n",
    "\n",
    "변수 = 20\n",
    "print(변수)\n",
    "print(\"-------\")\n",
    "\n",
    "변수 = 30\n",
    "print(변수)\n",
    "print(\"-------\")\n",
    "# 변하는 부분은 for문과 함께 리스트로 처리하고 변하지 않는 코드는 들여쓰기와 함께 적어줍니다.\n",
    "\n",
    "for 변수 in [10, 20, 30]:\n",
    "  print(변수)\n",
    "  print(\"-------\")"
   ]
  },
  {
   "cell_type": "markdown",
   "metadata": {},
   "source": [
    "## 139\n",
    "다음 코드를 for문으로 작성하라.\n"
   ]
  },
  {
   "cell_type": "code",
   "execution_count": 20,
   "metadata": {},
   "outputs": [
    {
     "name": "stdout",
     "output_type": "stream",
     "text": [
      "++++\n",
      "10\n",
      "20\n",
      "30\n"
     ]
    }
   ],
   "source": [
    "\n",
    "print(\"++++\")\n",
    "print(10)\n",
    "print(20)\n",
    "print(30)"
   ]
  },
  {
   "cell_type": "code",
   "execution_count": 21,
   "metadata": {},
   "outputs": [
    {
     "name": "stdout",
     "output_type": "stream",
     "text": [
      "++++\n",
      "10\n",
      "20\n",
      "30\n"
     ]
    }
   ],
   "source": [
    "# 정답확인\n",
    "# print(\"++++\") 코드가 함정입니다. 파이썬 for문은 반복되는 코드에만 사용합니다.\n",
    "\n",
    "print(\"++++\")\n",
    "for 변수 in [10, 20, 30]:\n",
    "  print(변수)"
   ]
  },
  {
   "cell_type": "markdown",
   "metadata": {},
   "source": [
    "## 140\n",
    "다음 코드를 for문으로 작성하라."
   ]
  },
  {
   "cell_type": "code",
   "execution_count": 22,
   "metadata": {},
   "outputs": [
    {
     "name": "stdout",
     "output_type": "stream",
     "text": [
      "-------\n",
      "-------\n",
      "-------\n",
      "-------\n"
     ]
    }
   ],
   "source": [
    "print(\"-------\")\n",
    "print(\"-------\")\n",
    "print(\"-------\")\n",
    "print(\"-------\")"
   ]
  },
  {
   "cell_type": "code",
   "execution_count": 26,
   "metadata": {},
   "outputs": [
    {
     "name": "stdout",
     "output_type": "stream",
     "text": [
      "-------\n",
      "-------\n",
      "-------\n",
      "-------\n"
     ]
    }
   ],
   "source": [
    "for 변수 in [1,2,3,4]:\n",
    "  print(\"-------\")\n"
   ]
  },
  {
   "cell_type": "code",
   "execution_count": 28,
   "metadata": {},
   "outputs": [
    {
     "name": "stdout",
     "output_type": "stream",
     "text": [
      "-------\n",
      "-------\n",
      "-------\n",
      "-------\n",
      "-------\n",
      "-------\n",
      "-------\n",
      "-------\n"
     ]
    }
   ],
   "source": [
    "# 네 번 반복 출력하는 코드를 작성하는 문제입니다.\n",
    "# - 변하는 값 : 없음\n",
    "# - 변하지 않는 코드 : print(\"-------\")\n",
    "# 지금까지 정리한 내용을 코드로 작성하면 아래와 같습니다. \"????\" 부분을 어떻게 채워야 할까요?\n",
    "\n",
    "# for 변수 in ?????:\n",
    "#   print(\"-------\")\n",
    "# 파이썬 문법에서 강조했던 내용을 떠올려 봅시다.\n",
    "\n",
    "# 파이썬 for문은 들여쓰기된 코드가 자료구조의 데이터 개수만큼 반복된다는 사실이 중요합니다.\n",
    "\n",
    "# 문제에서 원하는 것은 들여쓰기된 코드가 4번 실행되는 것입니다. 그렇다면 for문의 자료구조자리에 데이터가 4개저장된 리스트가 들어가면 어떻게 될까요?\n",
    "\n",
    "for 변수 in [\"가\", \"나\", \"다\", \"라\"]:\n",
    "  print(\"-------\")\n",
    "# 변수에 값이 바인딩되지만 사용되지 않을뿐 실행해보면 들여쓰기된 코드가 4번 실행됩니다. 위 예제에서는 자료구조에 \"가나다라\" 문자열 값을 넣었지만 아래와 같이 1,2,3,4 숫자 값을 넣어도 동일한 동작을 합니다. 자료구조에 네 개의 데이터가 들어있으면 됩니다.\n",
    "\n",
    "for 변수 in [1, 2, 3, 4]:\n",
    "  print(\"-------\")"
   ]
  },
  {
   "cell_type": "code",
   "execution_count": null,
   "metadata": {},
   "outputs": [],
   "source": []
  }
 ],
 "metadata": {
  "interpreter": {
   "hash": "cc07735d28a0d4da7c204b7621a4e8051814cf7e137f5c0f118b7d9ce33f12a9"
  },
  "kernelspec": {
   "display_name": "Python 3.7.8rc1 64-bit",
   "name": "python3"
  },
  "language_info": {
   "codemirror_mode": {
    "name": "ipython",
    "version": 3
   },
   "file_extension": ".py",
   "mimetype": "text/x-python",
   "name": "python",
   "nbconvert_exporter": "python",
   "pygments_lexer": "ipython3",
   "version": "3.7.8rc1"
  },
  "orig_nbformat": 4
 },
 "nbformat": 4,
 "nbformat_minor": 2
}
