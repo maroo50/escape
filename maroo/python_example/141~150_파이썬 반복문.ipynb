{
 "cells": [
  {
   "cell_type": "markdown",
   "metadata": {},
   "source": [
    "https://wikidocs.net/7020\n"
   ]
  },
  {
   "cell_type": "markdown",
   "metadata": {},
   "source": [
    "## 141\n",
    "다음과 같이 판매가가 저장된 리스트가 있을 때 부가세가 포함된 가격을 for 문을 사용해서 화면에 출력하라. 단 부가세는 10원으로 가정한다."
   ]
  },
  {
   "cell_type": "code",
   "execution_count": 5,
   "metadata": {},
   "outputs": [
    {
     "name": "stdout",
     "output_type": "stream",
     "text": [
      "110\n",
      "210\n",
      "310\n"
     ]
    }
   ],
   "source": [
    "리스트 = [100, 200, 300]\n",
    "\n",
    "for a in 리스트:\n",
    "    print(a + 10)"
   ]
  },
  {
   "cell_type": "markdown",
   "metadata": {},
   "source": [
    "## 142\n",
    "for 문을 사용해서 리스트에 저장된 값을 다음과 같이 출력하라.\n",
    "\n",
    "리스트 = [\"김밥\", \"라면\", \"튀김\"]\n",
    "\n",
    "##### 오늘의 메뉴: 김밥\n",
    "##### 오늘의 메뉴: 라면\n",
    "##### 오늘의 메뉴: 튀김"
   ]
  },
  {
   "cell_type": "code",
   "execution_count": 7,
   "metadata": {},
   "outputs": [
    {
     "name": "stdout",
     "output_type": "stream",
     "text": [
      "오늘의 메뉴: 김밥\n",
      "오늘의 메뉴: 라면\n",
      "오늘의 메뉴: 튀김\n"
     ]
    }
   ],
   "source": [
    "리스트 = [\"김밥\",\"라면\",\"튀김\"]\n",
    "\n",
    "for 변수 in 리스트:\n",
    "    print(\"오늘의 메뉴:\",변수)"
   ]
  },
  {
   "cell_type": "markdown",
   "metadata": {},
   "source": [
    "## 143\n",
    "리스트에 주식 종목이름이 저장돼 있다.\n",
    "\n",
    "리스트 = [\"SK하이닉스\", \"삼성전자\", \"LG전자\"]\n",
    "저장된 문자열의 길이를 다음과 같이 출력하라.\n",
    "##### 6\n",
    "##### 4\n",
    "##### 4"
   ]
  },
  {
   "cell_type": "code",
   "execution_count": 9,
   "metadata": {},
   "outputs": [
    {
     "name": "stdout",
     "output_type": "stream",
     "text": [
      "6\n",
      "4\n",
      "4\n"
     ]
    }
   ],
   "source": [
    "리스트 = [\"SK하이닉스\", \"삼성전자\", \"LG전자\"]\n",
    "\n",
    "for 주식 in 리스트:\n",
    "    print(len(주식)) "
   ]
  },
  {
   "cell_type": "markdown",
   "metadata": {},
   "source": [
    "## 144\n",
    "리스트에는 동물이름이 문자열로 저장돼 있다.\n",
    "\n",
    "#### 리스트 = ['dog', 'cat', 'parrot']\n",
    "#### 동물 이름과 글자수를 다음과 같이 출력하라."
   ]
  },
  {
   "cell_type": "code",
   "execution_count": 10,
   "metadata": {},
   "outputs": [
    {
     "name": "stdout",
     "output_type": "stream",
     "text": [
      "dog 3\n",
      "cat 3\n",
      "parrot 6\n"
     ]
    }
   ],
   "source": [
    "리스트 = ['dog', 'cat', 'parrot']\n",
    "\n",
    "for 이름 in 리스트:\n",
    "    print( 이름, len(이름) )"
   ]
  },
  {
   "cell_type": "markdown",
   "metadata": {},
   "source": [
    "## 145\n",
    "리스트에 동물 이름 저장돼 있다.\n",
    "\n",
    "리스트 = ['dog', 'cat', 'parrot']\n",
    "for문을 사용해서 동물 이름의 첫 글자만 출력하라.\n",
    "\n",
    "#### d\n",
    "#### c\n",
    "#### p"
   ]
  },
  {
   "cell_type": "code",
   "execution_count": 11,
   "metadata": {},
   "outputs": [
    {
     "name": "stdout",
     "output_type": "stream",
     "text": [
      "d\n",
      "c\n",
      "p\n"
     ]
    }
   ],
   "source": [
    "리스트 = ['dog', 'cat', 'parrot']\n",
    "\n",
    "for A in 리스트:\n",
    "    print(A[0])"
   ]
  },
  {
   "cell_type": "markdown",
   "metadata": {},
   "source": [
    "# 146\n",
    "리스트에는 세 개의 숫자가 바인딩돼 있다.\n",
    "\n",
    "리스트 = [1, 2, 3]\n",
    "for문을 사용해서 다음과 같이 출력하라.\n",
    "\n",
    "3 x 1\n",
    "\n",
    "3 x 2\n",
    "\n",
    "3 x 3"
   ]
  },
  {
   "cell_type": "code",
   "execution_count": 14,
   "metadata": {},
   "outputs": [
    {
     "name": "stdout",
     "output_type": "stream",
     "text": [
      "3 x 1 = 3\n",
      "3 x 2 = 6\n",
      "3 x 3 = 9\n"
     ]
    }
   ],
   "source": [
    "리스트 = [1,2,3]\n",
    "\n",
    "for i in 리스트:\n",
    "    print(\"3 x\", i, \"=\", 3*i)"
   ]
  },
  {
   "cell_type": "code",
   "execution_count": 15,
   "metadata": {},
   "outputs": [
    {
     "name": "stdout",
     "output_type": "stream",
     "text": [
      "3 x 1 = 3\n",
      "3 x 2 = 6\n",
      "3 x 3 = 9\n"
     ]
    }
   ],
   "source": [
    "for i in 리스트:\n",
    "    print(\"3 x {} = {}\".format(i, 3*i))"
   ]
  },
  {
   "cell_type": "markdown",
   "metadata": {},
   "source": [
    "## 148\n",
    "리스트에는 네 개의 문자열이 바인딩돼 있다.\n",
    "\n",
    "리스트 = [\"가\", \"나\", \"다\", \"라\"]\n",
    "for문을 사용해서 다음과 같이 출력하라.\n",
    "\n",
    "나\n",
    "\n",
    "다\n",
    "\n",
    "라"
   ]
  },
  {
   "cell_type": "code",
   "execution_count": 17,
   "metadata": {},
   "outputs": [
    {
     "name": "stdout",
     "output_type": "stream",
     "text": [
      "가\n",
      "다\n"
     ]
    }
   ],
   "source": [
    "리스트 = [\"가\", \"나\", \"다\", \"라\"]\n",
    "\n",
    "for i in 리스트[::2]:\n",
    "    print(i)"
   ]
  },
  {
   "cell_type": "markdown",
   "metadata": {},
   "source": [
    "## 150\n",
    "리스트에는 네 개의 문자열이 바인딩돼 있다.\n",
    "\n",
    "리스트 = [\"가\", \"나\", \"다\", \"라\"]\n",
    "for문을 사용해서 다음과 같이 출력하라.\n",
    "\n",
    "라\n",
    "\n",
    "다\n",
    "\n",
    "나\n",
    "\n",
    "가"
   ]
  },
  {
   "cell_type": "code",
   "execution_count": 23,
   "metadata": {},
   "outputs": [
    {
     "name": "stdout",
     "output_type": "stream",
     "text": [
      "라\n",
      "다\n",
      "나\n",
      "가\n"
     ]
    }
   ],
   "source": [
    "리스트 = [\"가\", \"나\", \"다\", \"라\"]\n",
    "\n",
    "\n",
    "# 증감폭을 음수로 설정하면 끝에서 앞방향으로 값을 슬라이싱합니다.\n",
    "for i in 리스트[::-1]:\n",
    "    print(i)\n"
   ]
  }
 ],
 "metadata": {
  "interpreter": {
   "hash": "cc07735d28a0d4da7c204b7621a4e8051814cf7e137f5c0f118b7d9ce33f12a9"
  },
  "kernelspec": {
   "display_name": "Python 3.7.8rc1 64-bit",
   "name": "python3"
  },
  "language_info": {
   "codemirror_mode": {
    "name": "ipython",
    "version": 3
   },
   "file_extension": ".py",
   "mimetype": "text/x-python",
   "name": "python",
   "nbconvert_exporter": "python",
   "pygments_lexer": "ipython3",
   "version": "3.7.8"
  },
  "orig_nbformat": 4
 },
 "nbformat": 4,
 "nbformat_minor": 2
}
