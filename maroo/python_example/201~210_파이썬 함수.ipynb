{
 "cells": [
  {
   "cell_type": "markdown",
   "source": [
    "## 201\r\n",
    "\"비트코인\" 문자열을 화면에 출력하는 print_coin() 함수를 정의하라."
   ],
   "metadata": {}
  },
  {
   "cell_type": "code",
   "execution_count": 4,
   "source": [
    "def print_coin():\r\n",
    "    print(\"비트코인\")\r\n",
    "\r\n",
    "print_coin()"
   ],
   "outputs": [
    {
     "output_type": "stream",
     "name": "stdout",
     "text": [
      "비트코인\n"
     ]
    }
   ],
   "metadata": {}
  },
  {
   "cell_type": "markdown",
   "source": [
    "## 202\r\n",
    "201번에서 정의한 함수를 호출하라."
   ],
   "metadata": {}
  },
  {
   "cell_type": "code",
   "execution_count": 6,
   "source": [
    "print_coin()"
   ],
   "outputs": [
    {
     "output_type": "stream",
     "name": "stdout",
     "text": [
      "비트코인\n"
     ]
    }
   ],
   "metadata": {}
  },
  {
   "cell_type": "markdown",
   "source": [
    "## 203\r\n",
    "201번에서 정의한 print_coin 함수를 100번호출하라."
   ],
   "metadata": {}
  },
  {
   "cell_type": "code",
   "execution_count": 9,
   "source": [
    "for i in range(100):\r\n",
    "    print_coin()"
   ],
   "outputs": [
    {
     "output_type": "stream",
     "name": "stdout",
     "text": [
      "비트코인\n",
      "비트코인\n",
      "비트코인\n",
      "비트코인\n",
      "비트코인\n",
      "비트코인\n",
      "비트코인\n",
      "비트코인\n",
      "비트코인\n",
      "비트코인\n",
      "비트코인\n",
      "비트코인\n",
      "비트코인\n",
      "비트코인\n",
      "비트코인\n",
      "비트코인\n",
      "비트코인\n",
      "비트코인\n",
      "비트코인\n",
      "비트코인\n",
      "비트코인\n",
      "비트코인\n",
      "비트코인\n",
      "비트코인\n",
      "비트코인\n",
      "비트코인\n",
      "비트코인\n",
      "비트코인\n",
      "비트코인\n",
      "비트코인\n",
      "비트코인\n",
      "비트코인\n",
      "비트코인\n",
      "비트코인\n",
      "비트코인\n",
      "비트코인\n",
      "비트코인\n",
      "비트코인\n",
      "비트코인\n",
      "비트코인\n",
      "비트코인\n",
      "비트코인\n",
      "비트코인\n",
      "비트코인\n",
      "비트코인\n",
      "비트코인\n",
      "비트코인\n",
      "비트코인\n",
      "비트코인\n",
      "비트코인\n",
      "비트코인\n",
      "비트코인\n",
      "비트코인\n",
      "비트코인\n",
      "비트코인\n",
      "비트코인\n",
      "비트코인\n",
      "비트코인\n",
      "비트코인\n",
      "비트코인\n",
      "비트코인\n",
      "비트코인\n",
      "비트코인\n",
      "비트코인\n",
      "비트코인\n",
      "비트코인\n",
      "비트코인\n",
      "비트코인\n",
      "비트코인\n",
      "비트코인\n",
      "비트코인\n",
      "비트코인\n",
      "비트코인\n",
      "비트코인\n",
      "비트코인\n",
      "비트코인\n",
      "비트코인\n",
      "비트코인\n",
      "비트코인\n",
      "비트코인\n",
      "비트코인\n",
      "비트코인\n",
      "비트코인\n",
      "비트코인\n",
      "비트코인\n",
      "비트코인\n",
      "비트코인\n",
      "비트코인\n",
      "비트코인\n",
      "비트코인\n",
      "비트코인\n",
      "비트코인\n",
      "비트코인\n",
      "비트코인\n",
      "비트코인\n",
      "비트코인\n",
      "비트코인\n",
      "비트코인\n",
      "비트코인\n",
      "비트코인\n"
     ]
    }
   ],
   "metadata": {}
  },
  {
   "cell_type": "markdown",
   "source": [
    "## 204\r\n",
    "\"비트코인\" 문자열을 100번 화면에 출력하는 print_coins() 함수를 정의하라."
   ],
   "metadata": {}
  },
  {
   "cell_type": "code",
   "execution_count": 10,
   "source": [
    "def print_coin():\r\n",
    "    for i in range(100):\r\n",
    "        print(\"비트코인\")"
   ],
   "outputs": [],
   "metadata": {}
  },
  {
   "cell_type": "markdown",
   "source": [
    "## 205\r\n",
    "아래의 에러가 발생하는 이유에 대해 설명하라.\r\n",
    ">> NameError: name 'hello' is not defined"
   ],
   "metadata": {}
  },
  {
   "cell_type": "code",
   "execution_count": 11,
   "source": [
    "# 함수가 정의되기 전에 호출되어서 에러가 발생합니다."
   ],
   "outputs": [],
   "metadata": {}
  },
  {
   "cell_type": "markdown",
   "source": [
    "## 206\r\n",
    "아래 코드의 실행 결과를 예측하라."
   ],
   "metadata": {}
  },
  {
   "cell_type": "code",
   "execution_count": 12,
   "source": [
    "def message() :\r\n",
    "    print(\"A\")\r\n",
    "    print(\"B\")\r\n",
    "\r\n",
    "message()\r\n",
    "print(\"C\")\r\n",
    "message()"
   ],
   "outputs": [
    {
     "output_type": "stream",
     "name": "stdout",
     "text": [
      "A\n",
      "B\n",
      "C\n",
      "A\n",
      "B\n"
     ]
    }
   ],
   "metadata": {}
  },
  {
   "cell_type": "markdown",
   "source": [
    "## 207\r\n",
    "아래 코드의 실행 결과를 예측하라. (읽기 어려운 코드의 예입니다.)\r\n",
    "\r\n"
   ],
   "metadata": {}
  },
  {
   "cell_type": "markdown",
   "source": [
    "<!-- def message() :\r\n",
    "    print(\"A\")\r\n",
    "    print(\"B\")\r\n",
    "\r\n",
    "message()\r\n",
    "print(\"C\")\r\n",
    "message() -->"
   ],
   "metadata": {}
  },
  {
   "cell_type": "code",
   "execution_count": 13,
   "source": [
    "print(\"A\")\r\n",
    "\r\n",
    "def message() :\r\n",
    "    print(\"B\")\r\n",
    "\r\n",
    "print(\"C\")\r\n",
    "message()\r\n"
   ],
   "outputs": [
    {
     "output_type": "stream",
     "name": "stdout",
     "text": [
      "A\n",
      "C\n",
      "B\n"
     ]
    }
   ],
   "metadata": {}
  },
  {
   "cell_type": "markdown",
   "source": [
    "## 208\r\n",
    "아래 코드의 실행 결과를 예측하라. (읽기 어려운 코드의 예입니다.)"
   ],
   "metadata": {}
  },
  {
   "cell_type": "code",
   "execution_count": 14,
   "source": [
    "print(\"A\")\r\n",
    "def message1() :\r\n",
    "    print(\"B\")\r\n",
    "print(\"C\")\r\n",
    "def message2() :\r\n",
    "    print(\"D\")\r\n",
    "message1()\r\n",
    "print(\"E\")\r\n",
    "message2()"
   ],
   "outputs": [
    {
     "output_type": "stream",
     "name": "stdout",
     "text": [
      "A\n",
      "C\n",
      "B\n",
      "E\n",
      "D\n"
     ]
    }
   ],
   "metadata": {}
  },
  {
   "cell_type": "markdown",
   "source": [
    "## 209\r\n",
    "아래 코드의 실행 결과를 예측하라."
   ],
   "metadata": {}
  },
  {
   "cell_type": "code",
   "execution_count": 15,
   "source": [
    "def message1():\r\n",
    "    print(\"A\")\r\n",
    "\r\n",
    "def message2():\r\n",
    "    print(\"B\")\r\n",
    "    message1()\r\n",
    "\r\n",
    "message2()"
   ],
   "outputs": [
    {
     "output_type": "stream",
     "name": "stdout",
     "text": [
      "B\n",
      "A\n"
     ]
    }
   ],
   "metadata": {}
  },
  {
   "cell_type": "markdown",
   "source": [
    "## 210\r\n",
    "아래 코드의 실행 결과를 예측하라."
   ],
   "metadata": {}
  },
  {
   "cell_type": "code",
   "execution_count": 16,
   "source": [
    "def message1():\r\n",
    "    print(\"A\")\r\n",
    "\r\n",
    "def message2():\r\n",
    "    print(\"B\")\r\n",
    "\r\n",
    "def message3():\r\n",
    "    for i in range(3):\r\n",
    "        message2()\r\n",
    "        print(\"C\")\r\n",
    "    message1()\r\n",
    "\r\n",
    "message3()\r\n",
    "\r\n",
    "\r\n"
   ],
   "outputs": [
    {
     "output_type": "stream",
     "name": "stdout",
     "text": [
      "B\n",
      "C\n",
      "B\n",
      "C\n",
      "B\n",
      "C\n",
      "A\n"
     ]
    }
   ],
   "metadata": {}
  },
  {
   "cell_type": "code",
   "execution_count": null,
   "source": [],
   "outputs": [],
   "metadata": {}
  }
 ],
 "metadata": {
  "orig_nbformat": 4,
  "language_info": {
   "name": "python",
   "version": "3.7.8rc1",
   "mimetype": "text/x-python",
   "codemirror_mode": {
    "name": "ipython",
    "version": 3
   },
   "pygments_lexer": "ipython3",
   "nbconvert_exporter": "python",
   "file_extension": ".py"
  },
  "kernelspec": {
   "name": "python3",
   "display_name": "Python 3.7.8rc1 64-bit"
  },
  "interpreter": {
   "hash": "cc07735d28a0d4da7c204b7621a4e8051814cf7e137f5c0f118b7d9ce33f12a9"
  }
 },
 "nbformat": 4,
 "nbformat_minor": 2
}